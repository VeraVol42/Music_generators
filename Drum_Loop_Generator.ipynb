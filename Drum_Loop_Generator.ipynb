{
  "nbformat": 4,
  "nbformat_minor": 0,
  "metadata": {
    "colab": {
      "provenance": [],
      "authorship_tag": "ABX9TyP8pMNPrV9vMABsQdfCmvtp",
      "include_colab_link": true
    },
    "kernelspec": {
      "name": "python3",
      "display_name": "Python 3"
    },
    "language_info": {
      "name": "python"
    }
  },
  "cells": [
    {
      "cell_type": "markdown",
      "metadata": {
        "id": "view-in-github",
        "colab_type": "text"
      },
      "source": [
        "<a href=\"https://colab.research.google.com/github/VeraVol42/Music_generators/blob/main/Drum_Loop_Generator.ipynb\" target=\"_parent\"><img src=\"https://colab.research.google.com/assets/colab-badge.svg\" alt=\"Open In Colab\"/></a>"
      ]
    },
    {
      "cell_type": "markdown",
      "source": [
        "# Drum Loop Generator\n",
        "\n",
        "This project is a simple tool for generating randomized drum loops using Python. It utilizes Pydub for audio manipulation and random for beat variations, allowing users to create dynamic and unique drum patterns with each execution.\n",
        "\n",
        "**How to Use:**\n",
        "1. Run the notebook.\n",
        "\n",
        "2. The program will generate a drum loop by randomly selecting and arranging percussive sounds.\n",
        "\n",
        "3. The loop is saved as an audio file (drum_loop.wav) and can be played directly in the notebook."
      ],
      "metadata": {
        "id": "eNjGYU4vfPP4"
      }
    },
    {
      "cell_type": "code",
      "source": [
        "# Install required libraries\n",
        "!pip install pydub\n",
        "!apt-get install -y ffmpeg"
      ],
      "metadata": {
        "id": "Yo8BZ6zQNMLd"
      },
      "execution_count": null,
      "outputs": []
    },
    {
      "cell_type": "code",
      "execution_count": null,
      "metadata": {
        "id": "wbF-TVHwMCF7"
      },
      "outputs": [],
      "source": [
        "# Import libraries\n",
        "from pydub import AudioSegment\n",
        "from google.colab import files\n",
        "import random\n",
        "from IPython.display import Audio"
      ]
    },
    {
      "cell_type": "code",
      "source": [
        "# Upload drum samples\n",
        "print(\"Please upload your drum samples: kick.wav, snare.wav, and hat.wav\")\n",
        "uploaded_files = files.upload()  # Upload your drum samples\n",
        "\n",
        "# Load drum samples\n",
        "kick = AudioSegment.from_file(\"kick.wav\")\n",
        "snare = AudioSegment.from_file(\"snare.wav\")\n",
        "hat = AudioSegment.from_file(\"hat.wav\")"
      ],
      "metadata": {
        "id": "IPC-56t8M4Kj"
      },
      "execution_count": null,
      "outputs": []
    },
    {
      "cell_type": "code",
      "source": [
        "#\n",
        "def create_drum_loop(bpm=120, bars=4):\n",
        "    \"\"\"\n",
        "    Generate a drum loop with random drum hits.\n",
        "    Parameters:\n",
        "    bpm (int): Tempo in beats per minute\n",
        "    bars (int): Number of bars in the loop\n",
        "    Returns:\n",
        "    AudioSegment: Generated drum loop\n",
        "    \"\"\"\n",
        "    beat_duration = 60000 // bpm  # Duration of one beat in milliseconds\n",
        "    bar_duration = beat_duration * 4  # Each bar has 4 beats\n",
        "\n",
        "    # Initialize an empty loop (silence)\n",
        "    loop = AudioSegment.silent(duration=bar_duration * bars)\n",
        "\n",
        "    # Randomly add drum hits to each beat in the loop\n",
        "    for bar in range(bars):\n",
        "        for beat in range(4):\n",
        "            # Add kick drum (50% chance)\n",
        "            if random.choice([True, False]):\n",
        "                loop = loop.overlay(kick[:beat_duration], position=(bar * bar_duration) + (beat * beat_duration))\n",
        "\n",
        "            # Add snare drum (50% chance)\n",
        "            if random.choice([True, False]):\n",
        "                loop = loop.overlay(snare[:beat_duration], position=(bar * bar_duration) + (beat * beat_duration))\n",
        "\n",
        "            # Add hi-hat (50% chance, shorter duration)\n",
        "            if random.choice([True, False]):\n",
        "                loop = loop.overlay(hat[:beat_duration // 2], position=(bar * bar_duration) + (beat * beat_duration))\n",
        "\n",
        "    return loop\n"
      ],
      "metadata": {
        "id": "8d6iiVXyNacQ"
      },
      "execution_count": null,
      "outputs": []
    },
    {
      "cell_type": "code",
      "source": [
        "# Generate the drum loop\n",
        "bpm = 120  # Beats per minute\n",
        "bars = 4  # Number of bars\n",
        "drum_loop = create_drum_loop(bpm=bpm, bars=bars)"
      ],
      "metadata": {
        "id": "a04lSm7WNdwA"
      },
      "execution_count": null,
      "outputs": []
    },
    {
      "cell_type": "code",
      "source": [
        "# Save the drum loop\n",
        "output_file = \"/content/drum_loop.wav\"\n",
        "drum_loop.export(output_file, format=\"wav\")\n",
        "print(f\"Drum loop saved to {output_file}\")"
      ],
      "metadata": {
        "id": "tMhfiPS5Nh5W"
      },
      "execution_count": null,
      "outputs": []
    },
    {
      "cell_type": "code",
      "source": [
        "# Play the drum loop in Colab\n",
        "Audio(output_file)"
      ],
      "metadata": {
        "id": "FiErMHAXOlNR"
      },
      "execution_count": null,
      "outputs": []
    }
  ]
}