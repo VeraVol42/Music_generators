{
  "nbformat": 4,
  "nbformat_minor": 0,
  "metadata": {
    "colab": {
      "provenance": [],
      "authorship_tag": "ABX9TyMCUzfV9Xf+VdBkLNSp92X1",
      "include_colab_link": true
    },
    "kernelspec": {
      "name": "python3",
      "display_name": "Python 3"
    },
    "language_info": {
      "name": "python"
    }
  },
  "cells": [
    {
      "cell_type": "markdown",
      "metadata": {
        "id": "view-in-github",
        "colab_type": "text"
      },
      "source": [
        "<a href=\"https://colab.research.google.com/github/VeraVol42/Music_generators/blob/main/Ambient_music_generator.ipynb\" target=\"_parent\"><img src=\"https://colab.research.google.com/assets/colab-badge.svg\" alt=\"Open In Colab\"/></a>"
      ]
    },
    {
      "cell_type": "markdown",
      "source": [
        "# Ambient Music Generator\n",
        "\n",
        "This project is a Python-based tool for generating ambient music by combining randomly selected tones and sound textures. Using Pydub for audio manipulation and random for sequencing, the tool creates evolving, atmospheric soundscapes ideal for relaxation, meditation, or background ambiance.\n",
        "\n",
        "**How to Use:**\n",
        "1. Run the notebook.\n",
        "\n",
        "2. The program will generate an ambient composition by layering randomized sound elements.\n",
        "\n",
        "3. The final audio is saved as ambient_track.wav and can be played directly in the notebook."
      ],
      "metadata": {
        "id": "2oSC-zo1f2ME"
      }
    },
    {
      "cell_type": "code",
      "execution_count": null,
      "metadata": {
        "id": "hHk4RrQ710HO"
      },
      "outputs": [],
      "source": [
        "!pip install pydub pygame soundfile\n",
        "!apt install ffmpeg\n"
      ]
    },
    {
      "cell_type": "code",
      "source": [
        "# Imports and Setup\n",
        "from pydub.generators import Sine\n",
        "from pydub import AudioSegment\n",
        "import pygame.mixer\n",
        "import random\n",
        "from IPython.display import Audio\n",
        "import time\n"
      ],
      "metadata": {
        "id": "XwXSoSWm25Lh"
      },
      "execution_count": null,
      "outputs": []
    },
    {
      "cell_type": "code",
      "source": [
        "# Define Chords and Frequencies\n",
        "# Simple chords (E minor, G major, A minor, F major)\n",
        "chords = {\n",
        "    \"Em\": [164.81, 196.00, 246.94],  # E, G, B\n",
        "    \"G\": [196.00, 246.94, 392.00],  # G, B, D\n",
        "    \"Am\": [220.00, 261.63, 329.63],  # A, C, E\n",
        "    \"F\": [174.61, 220.00, 261.63]   # F, A, C\n",
        "}\n",
        "\n"
      ],
      "metadata": {
        "id": "nsocvaFZ3BPG"
      },
      "execution_count": null,
      "outputs": []
    },
    {
      "cell_type": "code",
      "source": [
        "!wget https://www.soundjay.com/nature/ocean-wave-1.wav -O waves.wav\n",
        "!wget https://www.soundjay.com/nature/rain-03.wav -O rain.wav\n",
        "!wget https://www.soundjay.com/nature/wind-gust-02.wav -O wind.wav"
      ],
      "metadata": {
        "id": "FPwLXAoL_Atz"
      },
      "execution_count": null,
      "outputs": []
    },
    {
      "cell_type": "code",
      "source": [
        "# Load nature sounds\n",
        "nature_sounds = [\n",
        "    \"rain.wav\",   # Rain\n",
        "    \"wind.wav\", # Wind\n",
        "    \"waves.wav\"   # Ocean\n",
        "]\n"
      ],
      "metadata": {
        "id": "JJ6UWsEL3NfJ"
      },
      "execution_count": null,
      "outputs": []
    },
    {
      "cell_type": "code",
      "source": [
        "# Generate Chord Progression\n",
        "def generate_chord_progression(chord_count=8, chord_duration=2000):\n",
        "    melody = AudioSegment.silent(duration=0)\n",
        "    for _ in range(chord_count):\n",
        "        chord_name = random.choice(list(chords.keys()))\n",
        "        chord = chords[chord_name]\n",
        "        chord_segment = sum([Sine(freq).to_audio_segment(duration=chord_duration) for freq in chord])\n",
        "        melody += chord_segment\n",
        "    return melody\n"
      ],
      "metadata": {
        "id": "2Bxv1H0Z3O4_"
      },
      "execution_count": null,
      "outputs": []
    },
    {
      "cell_type": "code",
      "source": [
        "# Add Nature Sounds\n",
        "def add_nature_sound(melody):\n",
        "    nature_sound = random.choice(nature_sounds)\n",
        "    background = AudioSegment.from_file(nature_sound)\n",
        "\n",
        "    # Trim the background sound to match the melody length\n",
        "    if len(background) > len(melody):\n",
        "        background = background[:len(melody)]\n",
        "\n",
        "    return melody.overlay(background, loop=True)\n"
      ],
      "metadata": {
        "id": "m_sKTypm3Vd3"
      },
      "execution_count": null,
      "outputs": []
    },
    {
      "cell_type": "code",
      "source": [
        "# Generate and Save the Ambient Track\n",
        "\n",
        "melody = generate_chord_progression(chord_count=12, chord_duration=3000)\n",
        "final_track = add_nature_sound(melody)\n",
        "final_track.export(\"ambient_music.wav\", format=\"wav\")\n",
        "Audio(\"ambient_music.wav\")\n"
      ],
      "metadata": {
        "id": "N-iI9ISg3anq"
      },
      "execution_count": null,
      "outputs": []
    }
  ]
}