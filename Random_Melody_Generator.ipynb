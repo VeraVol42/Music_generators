{
  "nbformat": 4,
  "nbformat_minor": 0,
  "metadata": {
    "colab": {
      "provenance": [],
      "authorship_tag": "ABX9TyNPNlfCmL1RRvHkUSYKFRtl",
      "include_colab_link": true
    },
    "kernelspec": {
      "name": "python3",
      "display_name": "Python 3"
    },
    "language_info": {
      "name": "python"
    }
  },
  "cells": [
    {
      "cell_type": "markdown",
      "metadata": {
        "id": "view-in-github",
        "colab_type": "text"
      },
      "source": [
        "<a href=\"https://colab.research.google.com/github/VeraVol42/Music_generators/blob/main/Random_Melody_Generator.ipynb\" target=\"_parent\"><img src=\"https://colab.research.google.com/assets/colab-badge.svg\" alt=\"Open In Colab\"/></a>"
      ]
    },
    {
      "cell_type": "markdown",
      "source": [
        "# Random Melody Generator\n",
        "\n",
        "This project is a Python-based tool for generating random melodies using algorithmic composition techniques. It utilizes popular libraries such as MIDIUtil and music21 to create MIDI files with unique, randomly generated note sequences.\n",
        "\n",
        "**How to Use:**\n",
        "\n",
        "1. Run the notebook Random_Melody_Generator.ipynb.\n",
        "\n",
        "2. The program will randomly generate a melody using predefined musical rules.\n",
        "\n",
        "3. The melody is saved as a MIDI file (random_melody.mid), which can be played back using any MIDI-compatible software or a digital audio workstation (DAW)."
      ],
      "metadata": {
        "id": "9YibHnSnc8fr"
      }
    },
    {
      "cell_type": "code",
      "execution_count": null,
      "metadata": {
        "id": "VVIguPzmS-1o"
      },
      "outputs": [],
      "source": [
        "# Install Required Libraries\n",
        "!pip install pydub\n",
        "!apt install ffmpeg\n"
      ]
    },
    {
      "cell_type": "code",
      "source": [
        "# Imports and Setup\n",
        "from pydub.generators import Sine\n",
        "from pydub import AudioSegment\n",
        "import random\n",
        "from IPython.display import Audio"
      ],
      "metadata": {
        "id": "MXVLD_3STtUU"
      },
      "execution_count": null,
      "outputs": []
    },
    {
      "cell_type": "code",
      "source": [
        "# Define Notes and Frequencies\n",
        "# Frequencies for notes (C Major scale)\n",
        "notes = {\n",
        "    \"C4\": 261.63,\n",
        "    \"D4\": 293.66,\n",
        "    \"E4\": 329.63,\n",
        "    \"F4\": 349.23,\n",
        "    \"G4\": 392.00,\n",
        "    \"A4\": 440.00,\n",
        "    \"B4\": 493.88,\n",
        "    \"C5\": 523.25\n",
        "}\n"
      ],
      "metadata": {
        "id": "fvm_0ydbT0tj"
      },
      "execution_count": null,
      "outputs": []
    },
    {
      "cell_type": "code",
      "source": [
        "# Generate a Random Melody\n",
        "\n",
        "def generate_melody(note_count=16, note_duration=400, pause_chance=0.3):\n",
        "    melody = AudioSegment.silent(duration=0)\n",
        "\n",
        "    for _ in range(note_count):\n",
        "        # Randomly select a note\n",
        "        note = random.choice(list(notes.values()))\n",
        "\n",
        "        # Generate sine wave (note)\n",
        "        sine_wave = Sine(note).to_audio_segment(duration=note_duration)\n",
        "\n",
        "        # Random volume adjustment (-5 to +5 dB)\n",
        "        volume_change = random.randint(-5, 5)\n",
        "        sine_wave = sine_wave + volume_change\n",
        "\n",
        "        # Add a pause with a chance of pause_chance (30% by default)\n",
        "        if random.random() < pause_chance:\n",
        "            pause = AudioSegment.silent(duration=random.randint(100, 400))  # Pause for 100-400 ms\n",
        "            melody += pause\n",
        "\n",
        "        melody += sine_wave\n",
        "\n",
        "    return melody\n",
        "\n"
      ],
      "metadata": {
        "id": "KrBTpyBfUDP3"
      },
      "execution_count": null,
      "outputs": []
    },
    {
      "cell_type": "code",
      "source": [
        "# Play the Melody in Colab\n",
        "melody = generate_melody(note_count=25, note_duration=500, pause_chance=0.4)\n",
        "melody.export(\"random_melody_with_pauses.wav\", format=\"wav\")\n",
        "Audio(\"random_melody_with_pauses.wav\")\n"
      ],
      "metadata": {
        "id": "pqVKR3sfUR-v"
      },
      "execution_count": null,
      "outputs": []
    },
    {
      "cell_type": "markdown",
      "source": [],
      "metadata": {
        "id": "Vid-QV6ITjWV"
      }
    }
  ]
}